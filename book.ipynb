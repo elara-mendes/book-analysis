{
 "cells": [
  {
   "cell_type": "code",
   "execution_count": 4,
   "id": "initial_id",
   "metadata": {},
   "outputs": [],
   "source": [
    "with open(\"miracle-in-the-andes.txt\", \"r\", encoding=\"utf-8\") as file:\n",
    "    book = file.read()"
   ]
  },
  {
   "cell_type": "code",
   "execution_count": null,
   "id": "5d7117b2-f924-4cde-ba07-47aa9c2e264a",
   "metadata": {},
   "outputs": [],
   "source": [
    "book"
   ]
  },
  {
   "cell_type": "code",
   "execution_count": 6,
   "id": "c9ab15b9-4898-44bc-ad42-079613193946",
   "metadata": {},
   "outputs": [
    {
     "data": {
      "text/plain": [
       "str"
      ]
     },
     "execution_count": 6,
     "metadata": {},
     "output_type": "execute_result"
    }
   ],
   "source": [
    "type(book)"
   ]
  },
  {
   "cell_type": "markdown",
   "id": "62279c99-8add-4942-a496-ecb63ced34bb",
   "metadata": {},
   "source": [
    "## How many chapters?"
   ]
  },
  {
   "cell_type": "markdown",
   "id": "d9513575-5e45-4e6f-9654-c854e491496c",
   "metadata": {},
   "source": [
    "### With string methods"
   ]
  },
  {
   "cell_type": "code",
   "execution_count": 9,
   "id": "cf3e534c-19a2-4483-bf22-1d4c55b14c7f",
   "metadata": {},
   "outputs": [
    {
     "data": {
      "text/plain": [
       "11"
      ]
     },
     "execution_count": 9,
     "metadata": {},
     "output_type": "execute_result"
    }
   ],
   "source": [
    "book.count(\"Chapter\")"
   ]
  },
  {
   "cell_type": "markdown",
   "id": "2eee14e5-737e-4378-8e54-816fe42a9b7b",
   "metadata": {},
   "source": [
    "### With regex"
   ]
  },
  {
   "cell_type": "code",
   "execution_count": 11,
   "id": "42ec6de1-d5c2-48db-9a02-300572c84b90",
   "metadata": {},
   "outputs": [],
   "source": [
    "import re"
   ]
  },
  {
   "cell_type": "code",
   "execution_count": 17,
   "id": "8e67950c-8dbc-4a1a-af87-c7a678377690",
   "metadata": {},
   "outputs": [
    {
     "data": {
      "text/plain": [
       "10"
      ]
     },
     "execution_count": 17,
     "metadata": {},
     "output_type": "execute_result"
    }
   ],
   "source": [
    "pattern = re.compile(\"Chapter [0-9]+\") # Plus sign means that might have more digits, [a-z] for letters\n",
    "findings = re.findall(pattern, book)\n",
    "len(findings)"
   ]
  },
  {
   "cell_type": "markdown",
   "id": "861ba679-68c4-45ce-ac47-54d1f6a0c2aa",
   "metadata": {},
   "source": [
    "## Which are the sentences where \"love\" was used?"
   ]
  },
  {
   "cell_type": "code",
   "execution_count": 35,
   "id": "b3adba39-c56d-4ca1-b1b1-199830074462",
   "metadata": {},
   "outputs": [
    {
     "data": {
      "text/plain": [
       "['As a young man, of course, I could not put these things into words, but I knew, and my teammates knew, that there was something special about the game, and under the guidance of the Christian Brothers we developed a passionate love for the sport that shaped our friendships and our lives.',\n",
       " 'Guido and I grew up together, playing soccer and sharing a love of motorcycles, cars, and auto racing.',\n",
       " 'Under the guidance of the Christian Brothers, both of us grew to love the game of rugby with a consuming passion.',\n",
       " 'That rowdiness came to an abrupt end for Guido in 1969, when he met and fell in love with the beautiful daughter of a Chilean diplomat.',\n",
       " 'I believe he had a great hunger for the love and comforts of a family that was happy and whole.',\n",
       " 'He shared, with my father and me, a love for cars and driving, and he loved going with us to auto races.',\n",
       " 'The house had a beautiful view of the sea, and this more than anything made my mother love it.',\n",
       " 'She was a true tower of strength, but her strength was always based in warmth and love and because of her love and protection I grew up believing the world was a safe, familiar place.',\n",
       " 'He had given us a life of comfort and privilege such as his own father never could have imagined, he had provided for us and protected us in the best way he could, and though he was not an emotionally expressive man, he always showed his love for us subtly, quietly, and in ways that were true to the man he was.',\n",
       " 'Out of love for his family he had arranged in his mind a future that would keep us all safe, happy, and always together.',\n",
       " 'Susy shared my mother’s love for the closeness of family, but she was no stay-at-home girl.',\n",
       " 'When she was sixteen she spent a year as an exchange student living with a family in Florida, an experience that taught her to love the U.',\n",
       " 'Take care of the people you love. The words inspired nothing in me but a black sense of loss.',\n",
       " 'As I lay beside her, the sweetness of my love for her, for my lost friends and my family, for the suddenly fragile notion of my own life and future, swelled in my heart with an ache so profound it sapped all my strength, and for a moment I thought I would pass out.',\n",
       " 'I pressed my cheek against hers so I could feel her warm breath on my face, and held her that way all night, gently, but very close, never letting go, embracing her as if I were embracing all the love and peace and joy I had ever known and would ever know; as if by holding on tight I could keep everything precious from slipping away.',\n",
       " 'I felt my love for my father tugging at me like a lifeline, drawing me toward those barren slopes.',\n",
       " 'In the days after Susy died, my love for my father was the only thing that kept me sane, and time after time I would calm myself by reaffirming the promise I had made at Susy’s grave: to return to him; to show him I had survived and to ease his suffering a little.',\n",
       " 'Thinking of my father this way always triggered in me a burst of love so radiant and urgent that it took my breath away.',\n",
       " 'I don’t pray to God for forgiveness or favors, I only pray to be closer to Him, and when I pray, I fill my heart with love. When I pray this way, I know that God is love.',\n",
       " 'When I feel that love, I remember that we don’t need angels or a heaven, because we are a part of God already.',\n",
       " 'Bobby, are you warm enough? Do you want me to rub your feet?” She worried constantly about the children she had left at home, but still she had the courage and love to mother these frightened boys who were so far from their families.',\n",
       " 'It was our job to follow His commandments, to take the sacraments, to love God and to love others as Jesus had taught us.',\n",
       " 'I would think of him and let my heart fill with love for him, and this love would be stronger than my suffering, or my fear.',\n",
       " 'After two weeks on the mountain, my love for my father had taken on the irresistible power of a biological drive.',\n",
       " 'All we can do is love God and love others and trust in God’s will.',\n",
       " 'I can feel His love, Nando.',\n",
       " 'There’s so much love, I want to cry.',\n",
       " 'Even if we are trapped here forever, we can love our families, and God, and each other as long as we live.',\n",
       " 'You will tell my family that I love them, won’t you? That’s all that matters to me now.',\n",
       " 'But he lived so many lifetimes, had so many adventures, and, macho, he made love to so many beautiful girls.',\n",
       " 'The shoes were magical for me because my mother had chosen them with such love for her grandson, and had handled them so tenderly on the plane.',\n",
       " 'My love for my father swelled in my heart, and I realized that, despite the hopelessness of my situation, the memory of him filled me with joy.',\n",
       " 'They could not crush my ability to love. I felt a moment of calmness and clarity, and in that clarity of mind I discovered a simple, astounding secret: Death has an opposite, but the opposite is not mere living.',\n",
       " 'The opposite of death is love. How had I missed that? How does anyone miss that? Love is our only weapon.',\n",
       " 'Only love can turn mere life into a miracle, and draw precious meaning from suffering and fear.',\n",
       " 'I would walk through the godforsaken country that separated me from my home with love and hope in my heart.',\n",
       " 'I’ve never been in love.”\\n\\n“Really?” he laughed.',\n",
       " 'But still, still, I longed for the very things I knew I would never have—the love of a wife, a family of my own, a reunion with my grandmother and older sister, and always the embrace of my father.',\n",
       " 'My ordeal had simplified my mind and whittled me down very close to the essence of what I was, and now I saw that this longing, this love and affection for the very idea of my life, was a deeper part of me than hopelessness or fear or pain or hunger.',\n",
       " 'In seconds she was in my arms, and my heart swelled with love as I held her.',\n",
       " 'There was so much I wanted to tell him, that I had thought of him every moment, that his love had been the guiding light that led me to safety.',\n",
       " 'The papers called our return “The Christmas Miracle,” and many people were regarding us as almost mystical figures: young boys who had been saved by the direct intercession of God, living proof of His love. News of our survival was making headlines around the globe, and public interest was intense.',\n",
       " 'Where should I begin? “I love it,” I said, finally.',\n",
       " 'I tried to be on my best behavior, but already I was madly in love, and it required all my effort to take my eyes off Veronique, and to remind myself there was anyone else in the room.',\n",
       " 'She stepped off the train with only a backpack and a small duffel, looking very beautiful, and I fell in love with her all over again.',\n",
       " 'Until then, I had thought I could never love anything as much as I loved my wife, but when I gazed into my baby’s face, I was struck senseless by my love for her.',\n",
       " 'I felt a sudden, staggering sense of gratitude for the rich joys of my life—I had been given so much love and happiness—and I realized that every grueling step I had taken through that godforsaken wilderness was a step toward the tiny, precious miracle I held in my arms.',\n",
       " 'We are bonded by our suffering and our losses, but also by a great sense of mutual respect and, of course, a deep, unquestioned love. I don’t know if my father has ever understood how important he was to me when I was lost.',\n",
       " 'Mostly, he saved me with his love. He was never an openly affectionate man, but I never doubted his love when I was a boy.',\n",
       " 'It was quiet love, but solid and deep and enduring.',\n",
       " 'When I was in the mountains, stranded in the shadows of death, that love was like a safety line anchored in the world of the living.',\n",
       " 'As long as I held on to that love, I was not lost, I was connected to my home and to my future, and in the end it was that strong cord of love that led me out of danger.',\n",
       " 'He saved me simply by being the father I love.\\n\\n\\nWHEN MY FELLOW survivors and I first returned from the mountains, our parents and teachers, worried that we’d been scarred by the horrors we’d faced, asked us to visit a therapist.',\n",
       " 'There was love, the love in my heart, and for one incredible moment, as I felt this love swell—love for my father, for my future, for the simple wonder of being alive—death lost its power.',\n",
       " 'Instead, I made every step a step toward love, and that saved me.',\n",
       " 'I have never stopped moving toward love. Life has blessed me with material success.',\n",
       " 'I love to travel.',\n",
       " 'I believe life should be enjoyed, but my experiences have taught me that without the love of my family and my friends, all the trappings of worldly success would ring hollow.',\n",
       " 'I also know that I would be a happy man if all those trappings were taken from me, as long as I am close to the people I love.\\n\\nI expect most people would like to think of themselves this way, but I know that if I had not suffered as I did, and had not been forced to stare death in the face, I would not treasure the simple, precious pleasures of my life as richly as I do.',\n",
       " 'I savor them and let each one become a miniature eternity, and by living these small moments of my life so fully, I defy the shadow of death that hovers over all of us, I reaffirm my love and gratitude for all the gifts I’ve been given, and I fill myself more and more deeply with life.',\n",
       " 'It seemed to reach me through my own feelings of love, and I have often thought that when we feel what we call love, we are really feeling our connection to this awesome presence.',\n",
       " 'Instead, I imagine love, an ocean of love, the very source of love, and I imagine myself merging with it.',\n",
       " 'I open myself to it, I try to direct that tide of love toward the people who are close to me, hoping to protect them and bind them to me forever and connect us all to whatever there is in the world that is eternal.',\n",
       " 'In the mountains, it was love that kept me connected to the world of the living.',\n",
       " 'I had no expertise to draw on, so I relied upon the trust I felt in my love for my father and my future, and that trust led me home.',\n",
       " 'Now I am convinced that if there is something divine in the universe, the only way I will find it is through the love I feel for my family and my friends, and through the simple wonder of being alive.',\n",
       " 'I don’t need any other wisdom or philosophy than this: My duty is to fill my time on earth with as much life as possible, to become a little more human every day, and to understand that we only become human when we love. I have tried to love my friends with a loyal and generous heart.']"
      ]
     },
     "execution_count": 35,
     "metadata": {},
     "output_type": "execute_result"
    }
   ],
   "source": [
    "pattern = re.compile(\"[A-Z]{1}[^.]*[^a-zA-Z]+love[^a-zA-Z]+[^.]*.\") # [^.] finds everything less dot * repeats the pattern ^ negates something\n",
    "findings = re.findall(pattern, book)\n",
    "findings"
   ]
  },
  {
   "cell_type": "markdown",
   "id": "699ff995-126a-411c-9962-92657bc632b9",
   "metadata": {},
   "source": [
    "## What are the most used words?"
   ]
  },
  {
   "cell_type": "code",
   "execution_count": 44,
   "id": "495dbb9d-68d9-4cd7-8265-cf8d831cf403",
   "metadata": {},
   "outputs": [
    {
     "data": {
      "text/plain": [
       "['chapter', 'before', 'it', 'was', 'friday']"
      ]
     },
     "execution_count": 44,
     "metadata": {},
     "output_type": "execute_result"
    }
   ],
   "source": [
    "pattern = re.compile(\"[a-zA-Z]+\")\n",
    "findings = re.findall(pattern, book.lower())\n",
    "findings[:5]"
   ]
  },
  {
   "cell_type": "code",
   "execution_count": 47,
   "id": "981a102c-7f90-4810-98c6-5242a833347b",
   "metadata": {},
   "outputs": [],
   "source": [
    "d = {}\n",
    "for word in findings:\n",
    "    if word in d.keys():\n",
    "        d[word] = d[word] + 1\n",
    "    else:\n",
    "        d[word] = 1"
   ]
  },
  {
   "cell_type": "code",
   "execution_count": null,
   "id": "ff256a1b-b23f-41de-94b2-9f7295b87213",
   "metadata": {},
   "outputs": [],
   "source": [
    "d_list = [(value, key) for (key, value) in d.items()] # Need to ignore stop words\n",
    "sorted(d_list, reverse=True)"
   ]
  },
  {
   "cell_type": "markdown",
   "id": "7b94c3e2-f154-4a8f-a20a-8177f4412ac9",
   "metadata": {},
   "source": [
    "## Paragraphs where \"love\" is used"
   ]
  },
  {
   "cell_type": "code",
   "execution_count": null,
   "id": "4c77a900-ab44-4aa5-aff3-61d20671078a",
   "metadata": {},
   "outputs": [],
   "source": [
    "pattern = re.compile(\"[^\\n]+love[^\\n]*\")\n",
    "findings = re.findall(pattern, book)\n",
    "findings"
   ]
  },
  {
   "cell_type": "markdown",
   "id": "f3018424-3591-4328-940e-fea60f2e9fde",
   "metadata": {},
   "source": [
    "## Get the titles"
   ]
  },
  {
   "cell_type": "code",
   "execution_count": 90,
   "id": "71b5da96-e91a-40c8-a410-be8522437562",
   "metadata": {},
   "outputs": [
    {
     "data": {
      "text/plain": [
       "['Before',\n",
       " 'Everything Precious',\n",
       " 'A Promise',\n",
       " 'Breathe Once More',\n",
       " 'Abandoned',\n",
       " 'Tomb',\n",
       " 'East',\n",
       " 'The Opposite of Death',\n",
       " 'I See a Man',\n",
       " 'After']"
      ]
     },
     "execution_count": 90,
     "metadata": {},
     "output_type": "execute_result"
    }
   ],
   "source": [
    "pattern = re.compile(r\"^Chapter [0-9]+\\n\\s*([^\\n]+)\", re.MULTILINE) # re.multiline looks in every line not the one only\n",
    "findings = re.findall(pattern, book)\n",
    "findings"
   ]
  },
  {
   "cell_type": "markdown",
   "id": "dcf13b45-8774-459b-bca7-cb0f896611a0",
   "metadata": {},
   "source": [
    "## Function to get a word occurrence"
   ]
  },
  {
   "cell_type": "code",
   "execution_count": 118,
   "id": "d2c1ba5f-3428-434d-89c8-ca6753958ac2",
   "metadata": {},
   "outputs": [],
   "source": [
    "def get_word(word):\n",
    "    pattern = re.compile(rf\"\\b{word}\\b\", re.IGNORECASE)\n",
    "    findings = re.findall(pattern, book)\n",
    "    if len(findings):\n",
    "        return len(findings)\n",
    "    else:\n",
    "        return f\"There's no word like {word}\""
   ]
  },
  {
   "cell_type": "code",
   "execution_count": 119,
   "id": "9c456f06-b41e-4c29-9bd5-52f1bc224b5e",
   "metadata": {},
   "outputs": [
    {
     "data": {
      "text/plain": [
       "83"
      ]
     },
     "execution_count": 119,
     "metadata": {},
     "output_type": "execute_result"
    }
   ],
   "source": [
    "get_word(\"love\")"
   ]
  }
 ],
 "metadata": {
  "kernelspec": {
   "display_name": "Python 3 (ipykernel)",
   "language": "python",
   "name": "python3"
  },
  "language_info": {
   "codemirror_mode": {
    "name": "ipython",
    "version": 3
   },
   "file_extension": ".py",
   "mimetype": "text/x-python",
   "name": "python",
   "nbconvert_exporter": "python",
   "pygments_lexer": "ipython3",
   "version": "3.13.2"
  }
 },
 "nbformat": 4,
 "nbformat_minor": 5
}
